{
 "cells": [
  {
   "cell_type": "code",
   "execution_count": null,
   "id": "072aa47e",
   "metadata": {},
   "outputs": [],
   "source": [
    "# bubble sort\n",
    "\n",
    "lst = []\n",
    "n=int(input(\"enter length of list: \"))\n",
    "for i in range (n):\n",
    "  lst.append(int(input(\"enter element of list: \")))\n",
    "print(lst)\n",
    "\n",
    "for i in range(n-1):\n",
    "  for j in range(n-1):\n",
    "    if lst[j]>lst[j+1]:\n",
    "      lst[j],lst[j+1]=lst[j+1],lst[j]\n",
    "print(lst)\n",
    "\n",
    "# insertion sort\n",
    "\n",
    "l = int(input(\"enter nos in list: \"))\n",
    "p=[]\n",
    "for i in range(l):\n",
    "  p.append(int(input(\"\")))\n",
    "\n",
    "def insertion(p):\n",
    "  for i in range(len(p)):\n",
    "    temp = p[i]\n",
    "    j = i-1\n",
    "    while j>=0 and p[j]>temp:\n",
    "      p[j+1] = p[j]\n",
    "      j-=1\n",
    "      p[j+1] = temp\n",
    "\n",
    "insertion(p)\n",
    "print(p)\n",
    "\n",
    "# selection sort\n",
    "\n",
    "def SelectionSort(arr):\n",
    "    for i in range(len(arr)):\n",
    "        min_idx = i\n",
    "        for j in range(i+1,len(arr)):\n",
    "            if arr[min_idx] > arr[j]:\n",
    "                min_idx = j\n",
    "        arr[i], arr[min_idx] = arr[min_idx], arr[i]\n",
    "SelectionSort(s)\n",
    "print(\"Roll no sorted by selection sort are: \",s)"
   ]
  }
 ],
 "metadata": {
  "kernelspec": {
   "display_name": "Python 3",
   "language": "python",
   "name": "python3"
  },
  "language_info": {
   "codemirror_mode": {
    "name": "ipython",
    "version": 3
   },
   "file_extension": ".py",
   "mimetype": "text/x-python",
   "name": "python",
   "nbconvert_exporter": "python",
   "pygments_lexer": "ipython3",
   "version": "3.8.8"
  }
 },
 "nbformat": 4,
 "nbformat_minor": 5
}
